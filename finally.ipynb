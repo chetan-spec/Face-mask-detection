{
 "cells": [
  {
   "cell_type": "code",
   "execution_count": 1,
   "id": "2ee9c567",
   "metadata": {},
   "outputs": [],
   "source": [
    "from tensorflow.keras.applications.mobilenet_v2 import preprocess_input"
   ]
  },
  {
   "cell_type": "code",
   "execution_count": 2,
   "id": "68990720",
   "metadata": {},
   "outputs": [],
   "source": [
    "from tensorflow.keras.preprocessing.image import img_to_array"
   ]
  },
  {
   "cell_type": "code",
   "execution_count": 3,
   "id": "a2af1c54",
   "metadata": {},
   "outputs": [],
   "source": [
    "from tensorflow.keras.models import load_model"
   ]
  },
  {
   "cell_type": "code",
   "execution_count": 4,
   "id": "a3dcb128",
   "metadata": {},
   "outputs": [],
   "source": [
    "import numpy as np"
   ]
  },
  {
   "cell_type": "code",
   "execution_count": 5,
   "id": "4035bd90",
   "metadata": {},
   "outputs": [],
   "source": [
    "import cv2"
   ]
  },
  {
   "cell_type": "code",
   "execution_count": 6,
   "id": "662bcb95",
   "metadata": {},
   "outputs": [],
   "source": [
    "from os.path import dirname, join\n"
   ]
  },
  {
   "cell_type": "code",
   "execution_count": 7,
   "id": "1fb346f1",
   "metadata": {},
   "outputs": [],
   "source": [
    "prototxtPath = r\"C:\\Users\\ADMIN\\Downloads\\face mask\\face detection\\deploy.prototxt\"\n",
    "weightsPath = r\"C:\\Users\\ADMIN\\Downloads\\face mask\\face detection\\res10_300x300_ssd_iter_140000.caffemodel\""
   ]
  },
  {
   "cell_type": "code",
   "execution_count": 8,
   "id": "b7420790",
   "metadata": {},
   "outputs": [],
   "source": [
    "model=load_model(r'C:\\Users\\ADMIN\\Downloads\\face mask\\mask.detect.model')"
   ]
  },
  {
   "cell_type": "code",
   "execution_count": 9,
   "id": "0f07c50b",
   "metadata": {},
   "outputs": [],
   "source": [
    "protoPath = join(r'C:\\Users\\ADMIN\\Downloads\\face mask\\face_d', \"deploy.prototxt\")\n",
    "modelPath = join(r'C:\\Users\\ADMIN\\Downloads\\face mask\\face_d', \"res10_300x300_ssd_iter_140000 (1).caffemodel\")"
   ]
  },
  {
   "cell_type": "code",
   "execution_count": 10,
   "id": "cad5e87f",
   "metadata": {},
   "outputs": [],
   "source": [
    "net=cv2.dnn.readNet(protoPath,modelPath)"
   ]
  },
  {
   "cell_type": "code",
   "execution_count": null,
   "id": "dce1723e",
   "metadata": {},
   "outputs": [],
   "source": []
  },
  {
   "cell_type": "code",
   "execution_count": 11,
   "id": "9e69dbdb",
   "metadata": {
    "scrolled": true
   },
   "outputs": [],
   "source": [
    "image=cv2.imread(r'C:\\Users\\ADMIN\\Downloads\\face mask\\example\\kkk.png')"
   ]
  },
  {
   "cell_type": "code",
   "execution_count": 12,
   "id": "bc168cda",
   "metadata": {},
   "outputs": [
    {
     "data": {
      "text/plain": [
       "array([[[186, 183, 145],\n",
       "        [186, 184, 144],\n",
       "        [186, 184, 144],\n",
       "        ...,\n",
       "        [223, 220, 215],\n",
       "        [223, 220, 215],\n",
       "        [223, 220, 215]],\n",
       "\n",
       "       [[184, 183, 145],\n",
       "        [184, 183, 145],\n",
       "        [184, 183, 145],\n",
       "        ...,\n",
       "        [223, 220, 215],\n",
       "        [223, 220, 215],\n",
       "        [223, 220, 215]],\n",
       "\n",
       "       [[182, 181, 146],\n",
       "        [182, 181, 146],\n",
       "        [183, 182, 144],\n",
       "        ...,\n",
       "        [223, 220, 215],\n",
       "        [223, 220, 215],\n",
       "        [223, 220, 215]],\n",
       "\n",
       "       ...,\n",
       "\n",
       "       [[ 90,  87,  77],\n",
       "        [ 90,  87,  77],\n",
       "        [ 91,  88,  78],\n",
       "        ...,\n",
       "        [106, 102,  96],\n",
       "        [106, 102,  96],\n",
       "        [106, 102,  96]],\n",
       "\n",
       "       [[ 90,  87,  77],\n",
       "        [ 91,  88,  78],\n",
       "        [ 91,  88,  78],\n",
       "        ...,\n",
       "        [105, 101,  95],\n",
       "        [105, 101,  95],\n",
       "        [105, 101,  95]],\n",
       "\n",
       "       [[ 90,  87,  77],\n",
       "        [ 91,  88,  78],\n",
       "        [ 91,  88,  78],\n",
       "        ...,\n",
       "        [104, 100,  94],\n",
       "        [104, 100,  94],\n",
       "        [104, 100,  94]]], dtype=uint8)"
      ]
     },
     "execution_count": 12,
     "metadata": {},
     "output_type": "execute_result"
    }
   ],
   "source": [
    "image"
   ]
  },
  {
   "cell_type": "code",
   "execution_count": 13,
   "id": "f9c9638b",
   "metadata": {},
   "outputs": [],
   "source": [
    "(h,w)=image.shape[:2]"
   ]
  },
  {
   "cell_type": "code",
   "execution_count": 14,
   "id": "bb1e1f0c",
   "metadata": {},
   "outputs": [
    {
     "data": {
      "text/plain": [
       "(500, 600)"
      ]
     },
     "execution_count": 14,
     "metadata": {},
     "output_type": "execute_result"
    }
   ],
   "source": [
    "(h,w)\n"
   ]
  },
  {
   "cell_type": "code",
   "execution_count": 15,
   "id": "9c056341",
   "metadata": {},
   "outputs": [],
   "source": [
    "blob=cv2.dnn.blobFromImage(image,1.0,(300,300),(104.0,177.0,123.0))"
   ]
  },
  {
   "cell_type": "code",
   "execution_count": 16,
   "id": "8756c3ff",
   "metadata": {},
   "outputs": [
    {
     "data": {
      "text/plain": [
       "array([[[[ 81.,  81.,  76., ..., 119., 119., 119.],\n",
       "         [ 78.,  79.,  81., ..., 119., 119., 119.],\n",
       "         [ 68.,  70.,  75., ..., 118., 118., 118.],\n",
       "         ...,\n",
       "         [-13., -13., -11., ...,  -1.,   1.,   2.],\n",
       "         [-14., -13., -15., ...,   0.,   2.,   2.],\n",
       "         [-14., -13., -14., ...,  -2.,   0.,   0.]],\n",
       "\n",
       "        [[  6.,   7.,   1., ...,  43.,  43.,  43.],\n",
       "         [  4.,   5.,   6., ...,  43.,  43.,  43.],\n",
       "         [ -5.,  -2.,   0., ...,  42.,  42.,  42.],\n",
       "         ...,\n",
       "         [-89., -89., -86., ..., -76., -76., -74.],\n",
       "         [-90., -89., -90., ..., -74., -75., -75.],\n",
       "         [-90., -89., -90., ..., -76., -77., -77.]],\n",
       "\n",
       "        [[ 22.,  21.,  13., ...,  92.,  92.,  92.],\n",
       "         [ 23.,  21.,  20., ...,  92.,  92.,  92.],\n",
       "         [ 18.,  19.,  16., ...,  91.,  91.,  91.],\n",
       "         ...,\n",
       "         [-45., -45., -42., ..., -33., -28., -26.],\n",
       "         [-46., -45., -46., ..., -33., -27., -27.],\n",
       "         [-46., -45., -45., ..., -35., -29., -29.]]]], dtype=float32)"
      ]
     },
     "execution_count": 16,
     "metadata": {},
     "output_type": "execute_result"
    }
   ],
   "source": [
    "blob"
   ]
  },
  {
   "cell_type": "code",
   "execution_count": 17,
   "id": "50d1de55",
   "metadata": {},
   "outputs": [
    {
     "data": {
      "text/plain": [
       "(1, 3, 300, 300)"
      ]
     },
     "execution_count": 17,
     "metadata": {},
     "output_type": "execute_result"
    }
   ],
   "source": [
    "blob.shape"
   ]
  },
  {
   "cell_type": "code",
   "execution_count": 18,
   "id": "682785b9",
   "metadata": {},
   "outputs": [],
   "source": [
    "net.setInput(blob)\n",
    "detections=net.forward() "
   ]
  },
  {
   "cell_type": "code",
   "execution_count": 19,
   "id": "a3503d7e",
   "metadata": {},
   "outputs": [
    {
     "data": {
      "text/plain": [
       "array([[[[0.        , 1.        , 0.9984427 , ..., 0.12488029,\n",
       "          0.6709176 , 0.3542412 ],\n",
       "         [0.        , 1.        , 0.12920393, ..., 3.9990287 ,\n",
       "          4.8382664 , 4.984081  ],\n",
       "         [0.        , 1.        , 0.12446587, ..., 3.994579  ,\n",
       "          0.85450625, 4.978922  ],\n",
       "         ...,\n",
       "         [0.        , 1.        , 0.0841964 , ..., 0.4145316 ,\n",
       "          0.17800367, 0.51173985],\n",
       "         [0.        , 1.        , 0.08415166, ..., 0.08340292,\n",
       "          0.53142047, 0.21906102],\n",
       "         [0.        , 1.        , 0.08414721, ..., 0.839233  ,\n",
       "          0.8093825 , 0.95520073]]]], dtype=float32)"
      ]
     },
     "execution_count": 19,
     "metadata": {},
     "output_type": "execute_result"
    }
   ],
   "source": [
    "detections"
   ]
  },
  {
   "cell_type": "markdown",
   "id": "d3b2793a",
   "metadata": {},
   "source": [
    "#IMP PART "
   ]
  },
  {
   "cell_type": "code",
   "execution_count": null,
   "id": "3e2e529a",
   "metadata": {},
   "outputs": [],
   "source": [
    "\n",
    "for i in range(0,detections.shape[2]):\n",
    "    confidence=detections[0,0,i,2]\n",
    "    \n",
    "    \n",
    "    if confidence>0.5:\n",
    "        \n",
    "        box=detections[0,0,i,3:7]*np.array([w,h,w,h])\n",
    "        (startX,startY,endX,endY)=box.astype('int')\n",
    "        \n",
    "\n",
    "        (startX,startY)=(max(0,startX),max(0,startY))\n",
    "        (endX,endY)=(min(w-1,endX), min(h-1,endY))\n",
    "        \n",
    "        \n",
    "        \n",
    "        face=image[startY:endY, startX:endX]\n",
    "        face=cv2.cvtColor(face,cv2.COLOR_BGR2RGB)\n",
    "        face=cv2.resize(face,(224,224))\n",
    "        face=img_to_array(face)\n",
    "        face=preprocess_input(face)\n",
    "        face=np.expand_dims(face,axis=0)\n",
    "        \n",
    "        (mask,withoutMask)=model.predict(face)[0]\n",
    "        \n",
    "        \n",
    "        label='Mask' if mask>withoutMask else 'No Mask'\n",
    "        color=(128,0,128) if label=='Mask' else (0,0,255)\n",
    "        \n",
    "    \n",
    "        label=\"{}: {:.2f}%\".format(label,max(mask,withoutMask)*100)\n",
    "        \n",
    "    \n",
    "        cv2.putText(image,label,(startX,startY-10),cv2.FONT_HERSHEY_SIMPLEX,0.45,color,2)\n",
    "        cv2.rectangle(image,(startX,startY),(endX,endY),color,2)\n",
    "        \n",
    "        \n",
    "#for output         \n",
    "cv2.imshow(\"Result\",image)\n",
    "#anykey you press it destroy the window\n",
    "cv2.waitKey(0)\n",
    "cv2.destroyAllWindows()"
   ]
  },
  {
   "cell_type": "code",
   "execution_count": null,
   "id": "e05f9f3e",
   "metadata": {},
   "outputs": [],
   "source": []
  }
 ],
 "metadata": {
  "kernelspec": {
   "display_name": "Python 3 (ipykernel)",
   "language": "python",
   "name": "python3"
  },
  "language_info": {
   "codemirror_mode": {
    "name": "ipython",
    "version": 3
   },
   "file_extension": ".py",
   "mimetype": "text/x-python",
   "name": "python",
   "nbconvert_exporter": "python",
   "pygments_lexer": "ipython3",
   "version": "3.8.12"
  }
 },
 "nbformat": 4,
 "nbformat_minor": 5
}
